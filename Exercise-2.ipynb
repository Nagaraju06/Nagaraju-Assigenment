{
 "cells": [
  {
   "cell_type": "code",
   "execution_count": 1,
   "metadata": {},
   "outputs": [
    {
     "name": "stdout",
     "output_type": "stream",
     "text": [
      " nagaraju.py\n",
      "py\n"
     ]
    }
   ],
   "source": [
    "#1 python program to accept filename&print extension\n",
    "x=input(\" \")\n",
    "y=x[-2:]\n",
    "print(y)"
   ]
  },
  {
   "cell_type": "code",
   "execution_count": 1,
   "metadata": {},
   "outputs": [
    {
     "name": "stdout",
     "output_type": "stream",
     "text": [
      " pqc  abr \n"
     ]
    }
   ],
   "source": [
    "#2 python program to get a single string from two strings&swap that string\n",
    "x=\" abc \"\n",
    "y=\" pqr \"\n",
    "z=(x+y).strip()\n",
    "a=x.replace(\"ab\",\"pq\")\n",
    "b=y.replace(\"pq\",\"ab\")\n",
    "print(a+b)"
   ]
  },
  {
   "cell_type": "code",
   "execution_count": 3,
   "metadata": {},
   "outputs": [
    {
     "name": "stdout",
     "output_type": "stream",
     "text": [
      "uagarajn\n"
     ]
    }
   ],
   "source": [
    "#3 python program to change give string to new string where first&last characters are exchange\n",
    "x=\"nagaraju\"\n",
    "y=x[-1:]\n",
    "print(y+x[1:].replace(\"u\",\"n\"))"
   ]
  },
  {
   "cell_type": "code",
   "execution_count": 4,
   "metadata": {},
   "outputs": [
    {
     "name": "stdout",
     "output_type": "stream",
     "text": [
      "NAGA naga\n"
     ]
    }
   ],
   "source": [
    "#4 python program takes input from user& that input back in upper&lower case\n",
    "x=\"naga\"\n",
    "y=x.upper()\n",
    "z=y.lower()\n",
    "print(y,z)"
   ]
  },
  {
   "cell_type": "code",
   "execution_count": 18,
   "metadata": {},
   "outputs": [
    {
     "name": "stdout",
     "output_type": "stream",
     "text": [
      "agan\n"
     ]
    }
   ],
   "source": [
    "#5 python program takes input from user&reverse it\n",
    "x=\"naga\"\n",
    "print(\"aga{}\".format(\"n\"))"
   ]
  },
  {
   "cell_type": "code",
   "execution_count": 9,
   "metadata": {},
   "outputs": [
    {
     "name": "stdout",
     "output_type": "stream",
     "text": [
      "ga ga ga ga\n"
     ]
    }
   ],
   "source": [
    "#6 python function to get a string that made 4 copies of last two characters\n",
    "x=\"Naga\"\n",
    "y=x[-2:]\n",
    "print(y,y,y,y)"
   ]
  },
  {
   "cell_type": "code",
   "execution_count": 2,
   "metadata": {},
   "outputs": [
    {
     "name": "stdout",
     "output_type": "stream",
     "text": [
      "   Nagaraju   \n",
      "Nagaraju\n"
     ]
    }
   ],
   "source": [
    "#7 python program to remove space dynamically\n",
    "x=input(\" \")\n",
    "y=x.strip()\n",
    "print(y)"
   ]
  },
  {
   "cell_type": "code",
   "execution_count": 3,
   "metadata": {},
   "outputs": [
    {
     "name": "stdout",
     "output_type": "stream",
     "text": [
      " Nagaraju\n",
      "8\n"
     ]
    }
   ],
   "source": [
    "#8 python program to print length of the string dynamically\n",
    "x=input(\" \")\n",
    "print(len(x))"
   ]
  },
  {
   "cell_type": "code",
   "execution_count": 16,
   "metadata": {},
   "outputs": [
    {
     "name": "stdout",
     "output_type": "stream",
     "text": [
      "p== 0 y== 1\n"
     ]
    }
   ],
   "source": [
    "#9 python program to print item&its indexof a string of first two char\n",
    "x=\"python\"\n",
    "y=x.index(\"p\")\n",
    "z=x.index(\"y\")\n",
    "print(\"p==\",y,\"y==\",z)"
   ]
  },
  {
   "cell_type": "code",
   "execution_count": 17,
   "metadata": {},
   "outputs": [
    {
     "name": "stdout",
     "output_type": "stream",
     "text": [
      "Na@a@a@u\n"
     ]
    }
   ],
   "source": [
    "#10 python program to accept a string odd len&replace the string with @\n",
    "x=\"Nagaraju\"\n",
    "y=x.replace(\"g\",\"@\")\n",
    "print(y.replace(\"r\",\"@\").replace(\"j\",\"@\"))"
   ]
  }
 ],
 "metadata": {
  "kernelspec": {
   "display_name": "Python 3",
   "language": "python",
   "name": "python3"
  },
  "language_info": {
   "codemirror_mode": {
    "name": "ipython",
    "version": 3
   },
   "file_extension": ".py",
   "mimetype": "text/x-python",
   "name": "python",
   "nbconvert_exporter": "python",
   "pygments_lexer": "ipython3",
   "version": "3.7.4"
  }
 },
 "nbformat": 4,
 "nbformat_minor": 2
}
